{
 "cells": [
  {
   "cell_type": "code",
   "execution_count": 2,
   "metadata": {},
   "outputs": [],
   "source": [
    "def extract_features(image_path):\n",
    "    \"\"\"Extract features from the image using CNN.\"\"\"\n",
    "    # Load the image\n",
    "    img = cv2.imread(image_path)\n",
    "    if img is None:\n",
    "        raise ValueError(f\"Image at {image_path} could not be loaded.\")\n",
    "\n",
    "    img = cv2.resize(img, (224, 224))\n",
    "    img = img / 255.0\n",
    "    img = np.expand_dims(img, axis=0)\n",
    "    \n",
    "    # Load pre-trained CNN model (e.g., VGG16)\n",
    "    model = tf.keras.applications.VGG16(include_top=False, input_shape=(224, 224, 3))\n",
    "    features = model.predict(img)\n",
    "    return features.flatten()\n",
    "\n",
    "def cnn_image_similarity(image1_path, image2_path):\n",
    "    \"\"\"Compare two images based on CNN features using cosine similarity.\"\"\"\n",
    "    features1 = extract_features(image1_path)\n",
    "    features2 = extract_features(image2_path)\n",
    "    \n",
    "    # Calculate cosine similarity\n",
    "    similarity = cosine_similarity([features1], [features2])\n",
    "    \n",
    "    # Similarity value is between 0 and 1 (1 means identical)\n",
    "    return similarity[0][0]\n"
   ]
  },
  {
   "cell_type": "code",
   "execution_count": 3,
   "metadata": {},
   "outputs": [
    {
     "name": "stdout",
     "output_type": "stream",
     "text": [
      "1/1 [==============================] - 1s 683ms/step\n",
      "1/1 [==============================] - 0s 408ms/step\n",
      "Identical\n"
     ]
    }
   ],
   "source": [
    "from sklearn.metrics.pairwise import cosine_similarity\n",
    "\n",
    "import cv2\n",
    "import numpy as np\n",
    "import tensorflow as tf\n",
    "img1=r\"C:\\Users\\rasih\\OneDrive\\Documents\\onedrive\\Pictures\\Design (1).png\"\n",
    "img2=r\"C:\\Users\\rasih\\OneDrive\\Documents\\onedrive\\Pictures\\missing2.jpg\"\n",
    "c=cnn_image_similarity(img1,img2)\n",
    "if c>0.7:\n",
    "    print(\"Identical\")\n",
    "else:\n",
    "    print(\"Not Identical\")"
   ]
  }
 ],
 "metadata": {
  "kernelspec": {
   "display_name": "venv",
   "language": "python",
   "name": "python3"
  },
  "language_info": {
   "codemirror_mode": {
    "name": "ipython",
    "version": 3
   },
   "file_extension": ".py",
   "mimetype": "text/x-python",
   "name": "python",
   "nbconvert_exporter": "python",
   "pygments_lexer": "ipython3",
   "version": "3.8.10"
  }
 },
 "nbformat": 4,
 "nbformat_minor": 2
}
